{
 "metadata": {
  "language_info": {
   "codemirror_mode": {
    "name": "ipython",
    "version": 3
   },
   "file_extension": ".py",
   "mimetype": "text/x-python",
   "name": "python",
   "nbconvert_exporter": "python",
   "pygments_lexer": "ipython3",
   "version": "3.6.10-final"
  },
  "orig_nbformat": 2,
  "kernelspec": {
   "name": "python3",
   "display_name": "Python 3"
  }
 },
 "nbformat": 4,
 "nbformat_minor": 2,
 "cells": [
  {
   "cell_type": "code",
   "execution_count": 6,
   "metadata": {},
   "outputs": [],
   "source": []
  },
  {
   "cell_type": "code",
   "execution_count": 18,
   "metadata": {},
   "outputs": [],
   "source": []
  },
  {
   "cell_type": "code",
   "execution_count": 20,
   "metadata": {},
   "outputs": [
    {
     "output_type": "stream",
     "name": "stdout",
     "text": [
      "         feature  tag_0  tag_1  tag_2  tag_3  tag_4  tag_5  tag_6  tag_7  \\\n0      feature_0  False  False  False  False  False  False  False  False   \n1      feature_1  False  False  False  False  False  False   True   True   \n2      feature_2  False  False  False  False  False  False   True   True   \n3      feature_3  False  False  False  False  False  False   True  False   \n4      feature_4  False  False  False  False  False  False   True  False   \n..           ...    ...    ...    ...    ...    ...    ...    ...    ...   \n125  feature_125  False  False  False   True  False  False  False  False   \n126  feature_126  False  False   True  False  False  False  False  False   \n127  feature_127  False  False   True  False  False  False  False  False   \n128  feature_128  False   True  False  False  False  False  False  False   \n129  feature_129  False   True  False  False  False  False  False  False   \n\n     tag_8  ...  tag_19  tag_20  tag_21  tag_22  tag_23  tag_24  tag_25  \\\n0    False  ...   False   False   False   False   False   False   False   \n1    False  ...   False   False   False   False   False   False   False   \n2    False  ...   False   False   False   False   False   False   False   \n3     True  ...   False   False   False   False   False   False   False   \n4     True  ...   False   False   False   False   False   False   False   \n..     ...  ...     ...     ...     ...     ...     ...     ...     ...   \n125  False  ...   False   False   False   False   False   False   False   \n126  False  ...   False   False   False   False   False   False   False   \n127  False  ...   False   False   False   False   False   False   False   \n128  False  ...   False   False   False   False   False   False   False   \n129  False  ...   False   False   False   False   False   False   False   \n\n     tag_26  tag_27  tag_28  \n0     False   False   False  \n1     False   False   False  \n2     False   False   False  \n3     False   False   False  \n4     False   False   False  \n..      ...     ...     ...  \n125   False   False    True  \n126   False   False    True  \n127   False   False    True  \n128   False   False    True  \n129   False   False    True  \n\n[130 rows x 30 columns]\n"
     ]
    }
   ],
   "source": [
    "\n"
   ]
  },
  {
   "cell_type": "code",
   "execution_count": null,
   "metadata": {},
   "outputs": [],
   "source": []
  }
 ]
}