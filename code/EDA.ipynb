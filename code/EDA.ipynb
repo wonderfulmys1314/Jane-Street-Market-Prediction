{
 "metadata": {
  "language_info": {
   "codemirror_mode": {
    "name": "ipython",
    "version": 3
   },
   "file_extension": ".py",
   "mimetype": "text/x-python",
   "name": "python",
   "nbconvert_exporter": "python",
   "pygments_lexer": "ipython3",
   "version": 3
  },
  "orig_nbformat": 2
 },
 "nbformat": 4,
 "nbformat_minor": 2,
 "cells": [
  {
   "cell_type": "code",
   "execution_count": null,
   "metadata": {},
   "outputs": [],
   "source": [
    "prefix_path = \"/kaggle/input/jane-street-market-prediction/\"\n",
    "train_path = prefix_path + \"train.csv\"\n",
    "examples = pd.read_csv(train_path)"
   ]
  },
  {
   "cell_type": "code",
   "execution_count": null,
   "metadata": {},
   "outputs": [],
   "source": [
    "# 筛选待使用的特征\n",
    "feature_percent = examples.isnull().sum()/cnt\n",
    "feature_percent = feature_percent.apply(lambda x:x<0.1)\n",
    "train_feature = []\n",
    "for col in feature_percent.keys():\n",
    "    if col not in [\"date\",\"weight\",\"ts_id\",\"resp_1\", \"resp_2\", \"resp_3\",\"resp_4\", \"resp\",\"label\"] and feature_percent[col]:\n",
    "        train_feature.append(col)\n",
    "\n",
    "# 构建训练样本\n",
    "from sklearn.model_selection import train_test_split\n",
    "\n",
    "# 构建标签\n",
    "def CreateLabel(x):\n",
    "    count = 0\n",
    "    value = 0\n",
    "    for feature in [\"resp\",\"resp_1\",\"resp_2\",\"resp_3\",\"resp_4\"]:\n",
    "        if not math.isnan(x[feature]):\n",
    "            count += 1\n",
    "            value += x[feature]\n",
    "    if count == 0:\n",
    "        return np.nan\n",
    "    else:\n",
    "        return value/count\n",
    "    \n",
    "examples[\"label\"] = examples.apply(CreateLabel,axis=1)\n",
    "      \n",
    "# 抽取特征，并对缺失值处理\n",
    "examples.dropna(axis=0, how='any',subset=['label'],inplace=True)\n",
    "\n",
    "# 使用均值填充特征\n",
    "def GetMean(features,df):\n",
    "    mean_map = dict()\n",
    "    for feature in features:\n",
    "        mean_map[feature] = df[feature].mean()\n",
    "    return mean_map\n",
    "\n",
    "label = examples[\"label\"]\n",
    "mean_map = GetMean(train_feature,examples)\n",
    "for feature in train_feature:\n",
    "    examples[feature].fillna(mean_map[feature],inplace=True)\n",
    "train = examples[train_feature]\n",
    "# 拆分数据\n",
    "train_set,eval_set,train_label,eval_label = train_test_split(train,label,test_size=0.2)\n",
    "print(len(train_set))"
   ]
  },
  {
   "cell_type": "code",
   "execution_count": null,
   "metadata": {},
   "outputs": [],
   "source": [
    "# 构建训练模型\n",
    "from sklearn.linear_model import LinearRegression\n",
    "linreg = LinearRegression()\n",
    "linreg.fit(train_set, train_label)\n",
    "\n",
    "\n",
    "# 预测\n",
    "train_pred = linreg.predict(train_set)\n",
    "eval_pred = linreg.predict(eval_set)\n",
    "\n",
    "# 衡量模型效果\n",
    "from sklearn import metrics\n",
    "import numpy as np\n",
    "# 用scikit-learn计算MSE\n",
    "print(\"MSE:\",metrics.mean_squared_error(train_label, train_pred))\n",
    "print(\"MSE:\",metrics.mean_squared_error(eval_label, eval_pred))\n",
    "# 用scikit-learn计算RMSE\n",
    "print(\"RMSE:\",np.sqrt(metrics.mean_squared_error(train_label, train_pred)))\n",
    "print(\"RMSE:\",np.sqrt(metrics.mean_squared_error(eval_label, eval_pred)))"
   ]
  },
  {
   "cell_type": "code",
   "execution_count": null,
   "metadata": {},
   "outputs": [],
   "source": [
    "# # 提交预测\n",
    "import janestreet\n",
    "env = janestreet.make_env() # initialize the environment\n",
    "iter_test = env.iter_test() # an iterator which loops over the test set\n",
    "\n",
    "for (test_df, sample_prediction_df) in iter_test:\n",
    "    # 获取特征，并进行处理\n",
    "    select_df = test_df[train_feature]\n",
    "    for feature in train_feature:\n",
    "        select_df[feature].fillna(mean_map[feature])\n",
    "    reward = linreg.predict(select_df)\n",
    "    if reward > 0:\n",
    "        sample_prediction_df.action = 1\n",
    "    else:\n",
    "        sample_prediction_df.action = 0\n",
    "    env.predict(sample_prediction_df)"
   ]
  }
 ]
}