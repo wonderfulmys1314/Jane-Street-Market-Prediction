{
 "metadata": {
  "language_info": {
   "codemirror_mode": {
    "name": "ipython",
    "version": 3
   },
   "file_extension": ".py",
   "mimetype": "text/x-python",
   "name": "python",
   "nbconvert_exporter": "python",
   "pygments_lexer": "ipython3",
   "version": "3.6.10-final"
  },
  "orig_nbformat": 2,
  "kernelspec": {
   "name": "python3",
   "display_name": "Python 3"
  }
 },
 "nbformat": 4,
 "nbformat_minor": 2,
 "cells": [
  {
   "cell_type": "code",
   "execution_count": 2,
   "metadata": {},
   "outputs": [],
   "source": [
    "# %matplolib inline\n",
    "import pandas as pd \n",
    "from matplotlib import pyplot as plt \n",
    "import os"
   ]
  },
  {
   "cell_type": "code",
   "execution_count": 3,
   "metadata": {},
   "outputs": [],
   "source": [
    "prefix_path = \"../data/jane-street-market-prediction/\"\n",
    "feature_path = prefix_path + \"features.csv\"\n",
    "train_path = prefix_path + \"train.csv\"\n",
    "example_test_path = prefix_path + \"example_test.csv\" "
   ]
  },
  {
   "cell_type": "code",
   "execution_count": 8,
   "metadata": {},
   "outputs": [],
   "source": [
    "# 股票特征的分布\n",
    "feature = pd.read_csv(feature_path)\n"
   ]
  },
  {
   "cell_type": "code",
   "execution_count": 42,
   "metadata": {},
   "outputs": [],
   "source": [
    "# 读取训练集\n",
    "examples = pd.read_csv(train_path,nrows=500)"
   ]
  },
  {
   "cell_type": "code",
   "execution_count": 44,
   "metadata": {
    "tags": []
   },
   "outputs": [],
   "source": [
    "# 统计特征的缺失值，对缺失值超过10%的特征进行删除（暂定）\n",
    "cnt = len(train)\n",
    "feature_percent = examples.isnull().sum()/cnt\n",
    "feature_percent = feature_percent.apply(lambda x:x<0.1)\n",
    "train_feature = []\n",
    "for col in feature_percent.keys():\n",
    "    if col not in [\"date\",\"weight\",\"ts_id\",\"resp_1\", \"resp_2\", \"resp_3\",\"resp_4\", \"resp\"] and feature_percent[col]:\n",
    "        train_feature.append(col)"
   ]
  },
  {
   "cell_type": "code",
   "execution_count": 52,
   "metadata": {},
   "outputs": [
    {
     "output_type": "stream",
     "name": "stdout",
     "text": [
      "400\n"
     ]
    }
   ],
   "source": [
    "# 构建训练集、验证集、标签\n",
    "from sklearn.model_selection import train_test_split\n",
    "\n",
    "examples[\"label\"] = (examples['resp']+examples[\"resp_1\"]+examples[\"resp_2\"]+examples[\"resp_3\"]+examples[\"resp_4\"])/5\n",
    "train = examples[train_feature]\n",
    "label = examples[\"label\"]\n",
    "train_set,eval_set,train_label,eval_label = train_test_split(train,label,test_size=0.2)\n",
    "print(len(train_set))"
   ]
  },
  {
   "cell_type": "code",
   "execution_count": 53,
   "metadata": {},
   "outputs": [
    {
     "output_type": "execute_result",
     "data": {
      "text/plain": [
       "LinearRegression(copy_X=True, fit_intercept=True, n_jobs=None, normalize=False)"
      ]
     },
     "metadata": {},
     "execution_count": 53
    }
   ],
   "source": [
    "# 构建线性回归模型\n",
    "from sklearn.linear_model import LinearRegression\n",
    "linreg = LinearRegression()\n",
    "linreg.fit(train_set, train_label)"
   ]
  },
  {
   "cell_type": "code",
   "execution_count": 55,
   "metadata": {},
   "outputs": [
    {
     "output_type": "stream",
     "name": "stdout",
     "text": [
      "MSE: 0.0002447627632323372\nMSE: 0.0007141929094557836\nRMSE: 0.01564489575651871\nRMSE: 0.02672438791545624\n"
     ]
    }
   ],
   "source": [
    "# 预测\n",
    "train_pred = linreg.predict(train_set)\n",
    "eval_pred = linreg.predict(eval_set)\n",
    "\n",
    "# 衡量模型效果\n",
    "from sklearn import metrics\n",
    "import numpy as np\n",
    "# 用scikit-learn计算MSE\n",
    "print(\"MSE:\",metrics.mean_squared_error(train_label, train_pred))\n",
    "print(\"MSE:\",metrics.mean_squared_error(eval_label, eval_pred))\n",
    "# 用scikit-learn计算RMSE\n",
    "print(\"RMSE:\",np.sqrt(metrics.mean_squared_error(train_label, train_pred)))\n",
    "print(\"RMSE:\",np.sqrt(metrics.mean_squared_error(eval_label, eval_pred)))"
   ]
  },
  {
   "cell_type": "code",
   "execution_count": null,
   "metadata": {},
   "outputs": [],
   "source": [
    "# 提交预测\n",
    "import janestreet\n",
    "env = janestreet.make_env() # initialize the environment\n",
    "iter_test = env.iter_test() # an iterator which loops over the test set\n",
    "\n",
    "for (test_df, sample_prediction_df) in iter_test:\n",
    "    select_df = test_df[select_feature]\n",
    "    reward = linreg.predict(select_df)\n",
    "    if reward > 0:\n",
    "        sample_prediction_df.action = 1\n",
    "    else:\n",
    "        sample_prediction_df.action = 0\n",
    "    env.predict(sample_prediction_df)"
   ]
  }
 ]
}